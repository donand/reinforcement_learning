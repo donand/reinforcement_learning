{
 "cells": [
  {
   "cell_type": "markdown",
   "metadata": {},
   "source": [
    "# First try of OpenAI-Gym"
   ]
  },
  {
   "cell_type": "code",
   "execution_count": 1,
   "metadata": {},
   "outputs": [
    {
     "name": "stderr",
     "output_type": "stream",
     "text": [
      "[2018-01-11 15:07:26,178] Making new env: CartPole-v0\n"
     ]
    }
   ],
   "source": [
    "import gym\n",
    "\n",
    "env = gym.make('CartPole-v0')\n",
    "env.reset()\n",
    "box = env.observation_space"
   ]
  },
  {
   "cell_type": "code",
   "execution_count": 2,
   "metadata": {},
   "outputs": [
    {
     "data": {
      "text/plain": [
       "Discrete(2)"
      ]
     },
     "execution_count": 2,
     "metadata": {},
     "output_type": "execute_result"
    }
   ],
   "source": [
    "env.action_space"
   ]
  },
  {
   "cell_type": "code",
   "execution_count": 3,
   "metadata": {},
   "outputs": [
    {
     "name": "stdout",
     "output_type": "stream",
     "text": [
      "16\n"
     ]
    }
   ],
   "source": [
    "env.reset()\n",
    "done = False\n",
    "counter = 0\n",
    "while not done:\n",
    "    observation, reward, done, _ = env.step(env.action_space.sample())\n",
    "    counter += 1\n",
    "print(counter)"
   ]
  },
  {
   "cell_type": "markdown",
   "metadata": {},
   "source": [
    "# Random Search with linear model"
   ]
  },
  {
   "cell_type": "code",
   "execution_count": 4,
   "metadata": {},
   "outputs": [
    {
     "name": "stderr",
     "output_type": "stream",
     "text": [
      "[2018-01-11 15:07:26,687] Making new env: CartPole-v0\n"
     ]
    },
    {
     "name": "stdout",
     "output_type": "stream",
     "text": [
      "Avg length: 9.33\n",
      "Avg length: 86.47\n",
      "Avg length: 109.99\n",
      "Avg length: 9.28\n",
      "Avg length: 62.45\n",
      "Avg length: 40.22\n",
      "Avg length: 186.72\n",
      "Avg length: 8.86\n",
      "Avg length: 59.47\n",
      "Avg length: 9.2\n",
      "Avg length: 9.3\n",
      "Avg length: 37.75\n",
      "Avg length: 9.11\n",
      "Avg length: 108.89\n",
      "Avg length: 50.25\n",
      "Avg length: 82.41\n",
      "Avg length: 67.76\n",
      "Avg length: 9.32\n",
      "Avg length: 9.2\n",
      "Avg length: 31.47\n",
      "Avg length: 9.6\n",
      "Avg length: 9.78\n",
      "Avg length: 9.18\n",
      "Avg length: 43.95\n",
      "Avg length: 9.01\n",
      "Avg length: 9.6\n",
      "Avg length: 71.24\n",
      "Avg length: 9.44\n",
      "Avg length: 77.89\n",
      "Avg length: 9.82\n",
      "Avg length: 102.53\n",
      "Avg length: 21.67\n",
      "Avg length: 9.25\n",
      "Avg length: 9.64\n",
      "Avg length: 9.43\n",
      "Avg length: 83.07\n",
      "Avg length: 9.09\n",
      "Avg length: 9.82\n",
      "Avg length: 19.78\n",
      "Avg length: 9.54\n",
      "Avg length: 76.14\n",
      "Avg length: 9.46\n",
      "Avg length: 9.66\n",
      "Avg length: 32.11\n",
      "Avg length: 9.2\n",
      "Avg length: 8.82\n",
      "Avg length: 108.21\n",
      "Avg length: 9.23\n",
      "Avg length: 8.75\n",
      "Avg length: 25.59\n",
      "Avg length: 9.01\n",
      "Avg length: 9.78\n",
      "Avg length: 78.51\n",
      "Avg length: 9.11\n",
      "Avg length: 9.19\n",
      "Avg length: 9.11\n",
      "Avg length: 9.07\n",
      "Avg length: 61.38\n",
      "Avg length: 9.67\n",
      "Avg length: 9.13\n",
      "Avg length: 54.06\n",
      "Avg length: 78.42\n",
      "Avg length: 200.0\n",
      "Avg length: 108.51\n",
      "Avg length: 9.24\n",
      "Avg length: 52.22\n",
      "Avg length: 87.97\n",
      "Avg length: 9.83\n",
      "Avg length: 194.98\n",
      "Avg length: 9.45\n",
      "Avg length: 9.57\n",
      "Avg length: 8.88\n",
      "Avg length: 49.04\n",
      "Avg length: 185.36\n",
      "Avg length: 9.09\n",
      "Avg length: 8.97\n",
      "Avg length: 9.02\n",
      "Avg length: 9.66\n",
      "Avg length: 9.47\n",
      "Avg length: 9.73\n",
      "Avg length: 76.91\n",
      "Avg length: 9.01\n",
      "Avg length: 9.37\n",
      "Avg length: 8.99\n",
      "Avg length: 9.48\n",
      "Avg length: 8.99\n",
      "Avg length: 9.14\n",
      "Avg length: 8.94\n",
      "Avg length: 40.06\n",
      "Avg length: 69.61\n",
      "Avg length: 103.72\n",
      "Avg length: 9.28\n",
      "Avg length: 100.65\n",
      "Avg length: 90.56\n",
      "Avg length: 9.42\n",
      "Avg length: 31.85\n",
      "Avg length: 82.9\n",
      "Avg length: 9.29\n",
      "Avg length: 8.94\n",
      "Avg length: 9.11\n"
     ]
    },
    {
     "data": {
      "image/png": "[encoded data removed]",
      "text/plain": [
       "<matplotlib.figure.Figure at 0x1db8a3ce7b8>"
      ]
     },
     "metadata": {},
     "output_type": "display_data"
    },
    {
     "name": "stdout",
     "output_type": "stream",
     "text": [
      "Avg length: 200.0\n",
      "Best params length: 200.0\n"
     ]
    }
   ],
   "source": [
    "import numpy as np\n",
    "import matplotlib.pyplot as plt\n",
    "from gym import wrappers\n",
    "\n",
    "def get_action(s, w):\n",
    "    return 1 if s.dot(w) > 0 else 0\n",
    "\n",
    "def play_one_episode(env, params, display=False):\n",
    "    observation = env.reset()\n",
    "    done = False\n",
    "    t = 0\n",
    "    \n",
    "    while not done and t < 10000:\n",
    "        if display:\n",
    "            env.render()\n",
    "        t += 1\n",
    "        action = get_action(observation, params)\n",
    "        observation, reward, done, _ = env.step(action)\n",
    "        if done:\n",
    "            env.render(close=True)\n",
    "            break\n",
    "    return t\n",
    "\n",
    "def play_multiple_episodes(env, T, params):\n",
    "    episodes = np.empty(T)\n",
    "    for i in range(T):\n",
    "        episodes[i] = play_one_episode(env, params)\n",
    "    avg_length = np.mean(episodes)\n",
    "    print('Avg length: {}'.format(avg_length))\n",
    "    return avg_length\n",
    "\n",
    "def random_search(env):\n",
    "    episode_lengths = []\n",
    "    best = 0\n",
    "    params = None\n",
    "    for t in range(100):\n",
    "        new_params = np.random.random(4) * 2 - 1\n",
    "        avg_length = play_multiple_episodes(env, 100, new_params)\n",
    "        episode_lengths.append(avg_length)\n",
    "        if avg_length > best:\n",
    "            params = new_params\n",
    "            best = avg_length\n",
    "    return episode_lengths, params\n",
    "\n",
    "if __name__ == '__main__':\n",
    "    env = gym.make('CartPole-v0')\n",
    "    #env = wrappers.Monitor(env, 'video')\n",
    "    episode_lengths, params = random_search(env)\n",
    "    plt.plot(episode_lengths)\n",
    "    plt.show()\n",
    "    \n",
    "    best_length = play_multiple_episodes(env, 100, params)\n",
    "    print('Best params length: {}'.format(best_length))\n",
    "    play_one_episode(env, params, display=True)"
   ]
  }
 ],
 "metadata": {
  "kernelspec": {
   "display_name": "Python [conda root]",
   "language": "python",
   "name": "conda-root-py"
  },
  "language_info": {
   "codemirror_mode": {
    "name": "ipython",
    "version": 3
   },
   "file_extension": ".py",
   "mimetype": "text/x-python",
   "name": "python",
   "nbconvert_exporter": "python",
   "pygments_lexer": "ipython3",
   "version": "3.5.4"
  }
 },
 "nbformat": 4,
 "nbformat_minor": 1
}
