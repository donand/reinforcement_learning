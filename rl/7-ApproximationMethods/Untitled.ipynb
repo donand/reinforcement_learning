{
 "cells": [
  {
   "cell_type": "markdown",
   "metadata": {},
   "source": [
    "# Approximation Methods\n",
    "We want to approximate V(s) and Q(s,a). We can use neural networks, because they are universal function approximators.<br>\n",
    "First, we extract features X from the states S, and then we find a function f(x, theta) that approximates V(s). We do the feature extraction in order to use linear models, because for deep NNs is not required.<br>\n",
    "\n",
    "# Feature Engineering\n",
    "We can treat the states as a categorical variable, so we can use One Hot Encoding. The problem is that we are not compressing the representation. <br>\n",
    "We can use x = (x1, x2) to represent s = (i, j) and then normalize it.<br>\n",
    "A linear model is not expressive enough t represent our V(s), so we can use higher grade polynomials like x1^2, x2^2, x1*x2.\n",
    "\n",
    "# Monte Carlo Approximation\n",
    "We will approximate the V(s) with a linear model, updating the parameters theta using Stochastic Gradient Descent."
   ]
  },
  {
   "cell_type": "code",
   "execution_count": 1,
   "metadata": {
    "collapsed": true
   },
   "outputs": [],
   "source": [
    "%matplotlib inline\n",
    "import numpy as np\n",
    "import matplotlib.pyplot as plt\n",
    "import tqdm\n",
    "from grid_world import negative_grid, standard_grid\n",
    "plt.rcParams['figure.figsize'] = (15,7)"
   ]
  },
  {
   "cell_type": "code",
   "execution_count": 2,
   "metadata": {
    "collapsed": true
   },
   "outputs": [],
   "source": [
    "THRESHOLD = 10e-4\n",
    "GAMMA = 0.9\n",
    "ALL_POSSIBLE_ACTIONS = ('U', 'D', 'L', 'R')\n",
    "\n",
    "def print_values(V, g):\n",
    "    for i in range(g.width):\n",
    "        print('-----------------------')\n",
    "        for j in range(g.height):\n",
    "            v = V.get((i, j), 0)\n",
    "            if v >= 0:\n",
    "                print(' {0:.2f}'.format(v), end = ' ')\n",
    "            else:\n",
    "                print('{0:.2f}'.format(v), end = ' ')\n",
    "        print()\n",
    "    print('-----------------------')\n",
    "\n",
    "def print_policy(P, g):\n",
    "    for i in range(g.width):\n",
    "        print('---------------')\n",
    "        for j in range(g.height):\n",
    "            p = P.get((i, j), ' ')\n",
    "            print(' ' + p + ' ', end = ' ')\n",
    "        print()\n",
    "    print('---------------')"
   ]
  },
  {
   "cell_type": "code",
   "execution_count": 4,
   "metadata": {
    "collapsed": true
   },
   "outputs": [],
   "source": [
    "def play_game(grid, policy):\n",
    "    ## Exploring start method\n",
    "    start_states = list(grid.actions.keys())\n",
    "    start = start_states[np.random.choice(len(start_states))]\n",
    "    grid.set_state(start)\n",
    "    states_and_rewards = [(start, 0)]\n",
    "    s = start\n",
    "    while not grid.game_over():\n",
    "        a = policy[s]\n",
    "        r = grid.move(a)\n",
    "        s = grid.current_state()\n",
    "        states_and_rewards.append((s, r))\n",
    "    \n",
    "    G = 0\n",
    "    states_and_returns = []\n",
    "    first = True\n",
    "    for s, r in states_and_rewards[::-1]:\n",
    "        if not first:\n",
    "            states_and_returns.append((s, G))\n",
    "        else:\n",
    "            first = False\n",
    "        G = r + GAMMA * G\n",
    "    return states_and_returns"
   ]
  },
  {
   "cell_type": "code",
   "execution_count": 23,
   "metadata": {
    "scrolled": true
   },
   "outputs": [
    {
     "name": "stdout",
     "output_type": "stream",
     "text": [
      "Rewards:\n",
      "-----------------------\n",
      " 0.00  0.00  0.00  1.00 \n",
      "-----------------------\n",
      " 0.00  0.00  0.00 -1.00 \n",
      "-----------------------\n",
      " 0.00  0.00  0.00  0.00 \n",
      "-----------------------\n",
      "Policy:\n",
      "---------------\n",
      " R   R   R      \n",
      "---------------\n",
      " U       U      \n",
      "---------------\n",
      " U   L   U   L  \n",
      "---------------\n",
      "\n"
     ]
    },
    {
     "name": "stderr",
     "output_type": "stream",
     "text": [
      "100%|██████████████████████████████████| 10000/10000 [00:01<00:00, 6265.46it/s]\n"
     ]
    },
    {
     "name": "stdout",
     "output_type": "stream",
     "text": [
      "Value:\n",
      "-----------------------\n",
      " 0.76  0.89  1.02  0.00 \n",
      "-----------------------\n",
      " 0.73  0.00  0.87  0.00 \n",
      "-----------------------\n",
      " 0.70  0.71  0.73  0.74 \n",
      "-----------------------\n"
     ]
    },
    {
     "data": {
      "image/png": "[encoded data removed]",
      "text/plain": [
       "<matplotlib.figure.Figure at 0x1f6ba2d1198>"
      ]
     },
     "metadata": {},
     "output_type": "display_data"
    }
   ],
   "source": [
    "LEARNING_RATE = 0.001\n",
    "\n",
    "def transform(s):\n",
    "    return np.array([1, s[0] - 1, s[1] - 1.5, s[0] * s[1] - 3])\n",
    "\n",
    "def v(s, theta):\n",
    "    s = transform(s)\n",
    "    return np.dot(s, theta)\n",
    "\n",
    "grid = standard_grid()\n",
    "\n",
    "print('Rewards:')\n",
    "print_values(grid.rewards, grid)\n",
    "\n",
    "states = grid.all_states()\n",
    "#V = {s: 0 for s in states}\n",
    "#returns = {s: [] for s in states}\n",
    "theta = np.random.rand(4)\n",
    "policy = {(2,0): 'U',\n",
    "         (1,0): 'U',\n",
    "         (0,0): 'R',\n",
    "         (0,1): 'R',\n",
    "         (0,2): 'R',\n",
    "         (1,2): 'U',\n",
    "         (2,1): 'L',\n",
    "         (2,2): 'U',\n",
    "         (2,3): 'L'}\n",
    "print('Policy:')\n",
    "print_policy(policy, grid)\n",
    "grid.policy = policy\n",
    "print()\n",
    "\n",
    "t = 1\n",
    "deltas = []\n",
    "for i in tqdm.tqdm(range(10000)):\n",
    "    if i % 100 == 0:\n",
    "        t += 0.01\n",
    "    biggest_change = 0\n",
    "    alpha = LEARNING_RATE / t\n",
    "    states_and_returns = play_game(grid, policy)\n",
    "    seen_states = set()\n",
    "    for s, g in states_and_returns:\n",
    "        if not s in seen_states:\n",
    "            old_theta = theta.copy()\n",
    "            theta += alpha * (g - v(s, theta)) * transform(s)\n",
    "            biggest_change = max(biggest_change, np.abs(old_theta - theta).sum())\n",
    "        deltas.append(biggest_change)\n",
    "        seen_states.add(s)\n",
    "\n",
    "V = {s: v(s, theta) if s in grid.actions else 0 for s in states}\n",
    "print('Value:')\n",
    "print_values(V, grid)\n",
    "\n",
    "plt.plot(deltas)\n",
    "plt.show()"
   ]
  },
  {
   "cell_type": "markdown",
   "metadata": {},
   "source": [
    "# TD(0) Prediction Approximation\n",
    "In TD(0) we don't have the expected return G like in MC, instead we use $r + \\gamma V(s)$ to estimate it. So the update equation becomes:\n",
    "\n",
    "$$ \\theta = \\theta + \\alpha (r + \\gamma \\hat{V}(s', \\theta) - \\hat{V}(s, \\theta))\\frac{\\partial \\hat{V}(s, \\theta)}{\\partial \\theta} $$"
   ]
  },
  {
   "cell_type": "code",
   "execution_count": 33,
   "metadata": {
    "scrolled": true
   },
   "outputs": [
    {
     "name": "stdout",
     "output_type": "stream",
     "text": [
      "Rewards:\n",
      "-----------------------\n",
      " 0.00  0.00  0.00  1.00 \n",
      "-----------------------\n",
      " 0.00  0.00  0.00 -1.00 \n",
      "-----------------------\n",
      " 0.00  0.00  0.00  0.00 \n",
      "-----------------------\n",
      "Random policy:\n",
      "---------------\n",
      " R   R   R      \n",
      "---------------\n",
      " U       R      \n",
      "---------------\n",
      " U   R   R   U  \n",
      "---------------\n",
      "\n"
     ]
    },
    {
     "name": "stderr",
     "output_type": "stream",
     "text": [
      "100%|██████████████████████████████████| 20000/20000 [00:05<00:00, 3845.54it/s]\n"
     ]
    },
    {
     "data": {
      "image/png": "[encoded data removed]",
      "text/plain": [
       "<matplotlib.figure.Figure at 0x1f6bca85e10>"
      ]
     },
     "metadata": {},
     "output_type": "display_data"
    },
    {
     "name": "stdout",
     "output_type": "stream",
     "text": [
      "Policy\n",
      "---------------\n",
      " R   R   R      \n",
      "---------------\n",
      " U       R      \n",
      "---------------\n",
      " U   R   R   U  \n",
      "---------------\n",
      "\n",
      "Value function:\n",
      "-----------------------\n",
      " 0.77  0.86  0.95  0.00 \n",
      "-----------------------\n",
      " 0.67  0.00 -0.04  0.00 \n",
      "-----------------------\n",
      " 0.57 -0.23 -1.04 -1.84 \n",
      "-----------------------\n"
     ]
    }
   ],
   "source": [
    "def random_action(a, eps=0.1):\n",
    "    p = np.random.rand()\n",
    "    if p < 1 - eps:\n",
    "        return a\n",
    "    else:\n",
    "        return np.random.choice(ALL_POSSIBLE_ACTIONS)\n",
    "\n",
    "def play_game_TD(grid, policy):\n",
    "    s = (2, 0)\n",
    "    grid.set_state(s)\n",
    "    states_and_rewards = [(s, 0)]\n",
    "    while not grid.game_over():\n",
    "        r = grid.move(random_action(policy[s]))\n",
    "        s = grid.current_state()\n",
    "        states_and_rewards.append((s, r))\n",
    "    return states_and_rewards\n",
    "\n",
    "LEARNING_RATE = 0.001\n",
    "\n",
    "def transform(s):\n",
    "    return np.array([1, s[0] - 1, s[1] - 1.5, s[0] * s[1] - 3])\n",
    "\n",
    "def v(s, theta):\n",
    "    s = transform(s)\n",
    "    return np.dot(s, theta)\n",
    "\n",
    "grid = standard_grid()\n",
    "print('Rewards:')\n",
    "print_values(grid.rewards, grid)\n",
    "\n",
    "states = grid.all_states()\n",
    "theta = np.random.rand(4)\n",
    "policy = {(2,0): 'U',\n",
    "         (1,0): 'U',\n",
    "         (0,0): 'R',\n",
    "         (0,1): 'R',\n",
    "         (0,2): 'R',\n",
    "         (1,2): 'R',\n",
    "         (2,1): 'R',\n",
    "         (2,2): 'R',\n",
    "         (2,3): 'U'}\n",
    "print('Random policy:')\n",
    "print_policy(policy, grid)\n",
    "grid.policy = policy\n",
    "print()\n",
    "\n",
    "t = 0\n",
    "deltas = []\n",
    "for i in tqdm.tqdm(range(20000)):\n",
    "    if i % 100 == 0:\n",
    "        t += 0.01\n",
    "    biggest_change = 0\n",
    "    alpha = LEARNING_RATE / t\n",
    "    # policy evaluation\n",
    "    states_and_rewards = play_game_TD(grid, policy)\n",
    "    for j in range(len(states_and_rewards) - 1):\n",
    "        old_theta = theta.copy()\n",
    "        s, _ = states_and_rewards[j]\n",
    "        s2, r = states_and_rewards[j + 1]\n",
    "        if grid.is_terminal(s2):\n",
    "            target = r\n",
    "        else:\n",
    "            target = r + GAMMA * v(s2, theta)\n",
    "        theta += alpha * (target - v(s, theta)) * transform(s)\n",
    "        biggest_change = max(biggest_change, np.abs(old_theta - theta).sum())\n",
    "    deltas.append(biggest_change)\n",
    "    \n",
    "plt.plot(deltas)\n",
    "plt.show()\n",
    "\n",
    "print('Policy')\n",
    "print_policy(policy, grid)\n",
    "    \n",
    "V = {s: v(s, theta) if s in grid.actions else 0 for s in states}\n",
    "print('\\nValue function:')\n",
    "print_values(V, grid)"
   ]
  },
  {
   "cell_type": "markdown",
   "metadata": {},
   "source": [
    "# SARSA Approximation - Control problem\n",
    "We are going to approximate Q(s, a), so we have to approximate |S|x|A| values instead of |S|. The idea is the same:\n",
    "\n",
    "$$ \\theta = \\theta + \\alpha (r + \\gamma \\hat{Q}(s', a', \\theta) - \\hat{Q}(s, a, \\theta))\\frac{\\partial \\hat{Q}(s, a, \\theta)}{\\partial \\theta} $$\n",
    "\n"
   ]
  }
 ],
 "metadata": {
  "anaconda-cloud": {},
  "kernelspec": {
   "display_name": "Python [conda root]",
   "language": "python",
   "name": "conda-root-py"
  },
  "language_info": {
   "codemirror_mode": {
    "name": "ipython",
    "version": 3
   },
   "file_extension": ".py",
   "mimetype": "text/x-python",
   "name": "python",
   "nbconvert_exporter": "python",
   "pygments_lexer": "ipython3",
   "version": "3.5.4"
  }
 },
 "nbformat": 4,
 "nbformat_minor": 1
}
